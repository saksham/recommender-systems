{
 "cells": [
  {
   "cell_type": "markdown",
   "metadata": {},
   "source": [
    "## Collaborative Filtering in 10 Lines of Code\n",
    "\n",
    "I was looking for some sample code for getting my hands dirty with some recommender system code, particularly around collaborative filtering. I came across this blog post [Collaborative Filtering in 9 Lines of Code](http://tungwaiyip.info/2012/Collaborative%20Filtering.html), which is based on the book Toby Seragan's book [Programming Collective Intelligence](http://shop.oreilly.com/product/9780596529321.do). \n",
    "\n",
    "This notebook is based on the orginal blog post. The code had to be adjusted to make it work with Python 3."
   ]
  },
  {
   "cell_type": "code",
   "execution_count": 9,
   "metadata": {
    "collapsed": false
   },
   "outputs": [
    {
     "data": {
      "text/html": [
       "<div>\n",
       "<table border=\"1\" class=\"dataframe\">\n",
       "  <thead>\n",
       "    <tr style=\"text-align: right;\">\n",
       "      <th>critic</th>\n",
       "      <th>Claudia Puig</th>\n",
       "      <th>Gene Seymour</th>\n",
       "      <th>Jack Matthews</th>\n",
       "      <th>Lisa Rose</th>\n",
       "      <th>Mick LaSalle</th>\n",
       "      <th>Toby</th>\n",
       "    </tr>\n",
       "    <tr>\n",
       "      <th>title</th>\n",
       "      <th></th>\n",
       "      <th></th>\n",
       "      <th></th>\n",
       "      <th></th>\n",
       "      <th></th>\n",
       "      <th></th>\n",
       "    </tr>\n",
       "  </thead>\n",
       "  <tbody>\n",
       "    <tr>\n",
       "      <th>Just My Luck</th>\n",
       "      <td>3.0</td>\n",
       "      <td>1.5</td>\n",
       "      <td>NaN</td>\n",
       "      <td>3.0</td>\n",
       "      <td>2.0</td>\n",
       "      <td>NaN</td>\n",
       "    </tr>\n",
       "    <tr>\n",
       "      <th>Lady in the Water</th>\n",
       "      <td>NaN</td>\n",
       "      <td>3.0</td>\n",
       "      <td>3.0</td>\n",
       "      <td>2.5</td>\n",
       "      <td>3.0</td>\n",
       "      <td>NaN</td>\n",
       "    </tr>\n",
       "    <tr>\n",
       "      <th>Snakes on a Plane</th>\n",
       "      <td>3.5</td>\n",
       "      <td>3.5</td>\n",
       "      <td>4.0</td>\n",
       "      <td>3.5</td>\n",
       "      <td>4.0</td>\n",
       "      <td>4.5</td>\n",
       "    </tr>\n",
       "    <tr>\n",
       "      <th>Superman Returns</th>\n",
       "      <td>4.0</td>\n",
       "      <td>5.0</td>\n",
       "      <td>5.0</td>\n",
       "      <td>3.5</td>\n",
       "      <td>3.0</td>\n",
       "      <td>4.0</td>\n",
       "    </tr>\n",
       "    <tr>\n",
       "      <th>The Night Listener</th>\n",
       "      <td>4.5</td>\n",
       "      <td>3.0</td>\n",
       "      <td>3.0</td>\n",
       "      <td>3.0</td>\n",
       "      <td>3.0</td>\n",
       "      <td>NaN</td>\n",
       "    </tr>\n",
       "    <tr>\n",
       "      <th>You Me and Dupree</th>\n",
       "      <td>2.5</td>\n",
       "      <td>3.5</td>\n",
       "      <td>3.5</td>\n",
       "      <td>2.5</td>\n",
       "      <td>2.0</td>\n",
       "      <td>1.0</td>\n",
       "    </tr>\n",
       "  </tbody>\n",
       "</table>\n",
       "</div>"
      ],
      "text/plain": [
       "critic              Claudia Puig  Gene Seymour  Jack Matthews  Lisa Rose  \\\n",
       "title                                                                      \n",
       "Just My Luck                 3.0           1.5            NaN        3.0   \n",
       "Lady in the Water            NaN           3.0            3.0        2.5   \n",
       "Snakes on a Plane            3.5           3.5            4.0        3.5   \n",
       "Superman Returns             4.0           5.0            5.0        3.5   \n",
       "The Night Listener           4.5           3.0            3.0        3.0   \n",
       "You Me and Dupree            2.5           3.5            3.5        2.5   \n",
       "\n",
       "critic              Mick LaSalle  Toby  \n",
       "title                                   \n",
       "Just My Luck                 2.0   NaN  \n",
       "Lady in the Water            3.0   NaN  \n",
       "Snakes on a Plane            4.0   4.5  \n",
       "Superman Returns             3.0   4.0  \n",
       "The Night Listener           3.0   NaN  \n",
       "You Me and Dupree            2.0   1.0  "
      ]
     },
     "execution_count": 9,
     "metadata": {},
     "output_type": "execute_result"
    }
   ],
   "source": [
    "import numpy as np; import pandas as pd; from pandas import Series, DataFrame\n",
    "rating = pd.read_csv('data/movie_rating.csv')\n",
    "rp = rating.pivot_table(columns=['critic'], index=['title'],values='rating')\n",
    "rp"
   ]
  },
  {
   "cell_type": "markdown",
   "metadata": {},
   "source": [
    "The next step is to find the similarity score between the critics. The author Toby is used as an example. The book introduced a somewhat involving formula the Pearson correlation score. Turn out this is simply the correlation coefficient supported in most statistical packages. In Pandas, you can use corrwith() to calculate the correlation. A score close to 1 means their tastes are very similar. As you can see in the result below, Lisa Rose's taste is very similar to Toby but it is not so much with Gene Seymour."
   ]
  },
  {
   "cell_type": "code",
   "execution_count": 169,
   "metadata": {
    "collapsed": false
   },
   "outputs": [
    {
     "data": {
      "text/plain": [
       "critic\n",
       "Claudia Puig     0.893405\n",
       "Gene Seymour     0.381246\n",
       "Jack Matthews    0.662849\n",
       "Lisa Rose        0.991241\n",
       "Mick LaSalle     0.924473\n",
       "Toby             1.000000\n",
       "dtype: float64"
      ]
     },
     "execution_count": 169,
     "metadata": {},
     "output_type": "execute_result"
    }
   ],
   "source": [
    "rating_toby = rp['Toby']\n",
    "sim_toby = rp.corrwith(rating_toby)\n",
    "sim_toby"
   ]
  },
  {
   "cell_type": "markdown",
   "metadata": {},
   "source": [
    "To make recommendation for Toby, we calculate a rating of others weighted by the similarity. Note that we only need to calculate rating for movies Toby has not yet seen. The first line below filter out irrelevant data. It then assigns the similarity score and the weighted rating."
   ]
  },
  {
   "cell_type": "code",
   "execution_count": 192,
   "metadata": {
    "collapsed": false
   },
   "outputs": [
    {
     "data": {
      "text/html": [
       "<div>\n",
       "<table border=\"1\" class=\"dataframe\">\n",
       "  <thead>\n",
       "    <tr style=\"text-align: right;\">\n",
       "      <th></th>\n",
       "      <th>critic</th>\n",
       "      <th>title</th>\n",
       "      <th>rating</th>\n",
       "      <th>sim_rating</th>\n",
       "      <th>similarity</th>\n",
       "    </tr>\n",
       "  </thead>\n",
       "  <tbody>\n",
       "    <tr>\n",
       "      <th>0</th>\n",
       "      <td>Jack Matthews</td>\n",
       "      <td>Lady in the Water</td>\n",
       "      <td>3.0</td>\n",
       "      <td>1.988547</td>\n",
       "      <td>0.662849</td>\n",
       "    </tr>\n",
       "    <tr>\n",
       "      <th>1</th>\n",
       "      <td>Jack Matthews</td>\n",
       "      <td>The Night Listener</td>\n",
       "      <td>3.0</td>\n",
       "      <td>1.988547</td>\n",
       "      <td>0.662849</td>\n",
       "    </tr>\n",
       "    <tr>\n",
       "      <th>2</th>\n",
       "      <td>Mick LaSalle</td>\n",
       "      <td>Lady in the Water</td>\n",
       "      <td>3.0</td>\n",
       "      <td>2.773420</td>\n",
       "      <td>0.924473</td>\n",
       "    </tr>\n",
       "    <tr>\n",
       "      <th>3</th>\n",
       "      <td>Mick LaSalle</td>\n",
       "      <td>Just My Luck</td>\n",
       "      <td>2.0</td>\n",
       "      <td>1.848947</td>\n",
       "      <td>0.924473</td>\n",
       "    </tr>\n",
       "    <tr>\n",
       "      <th>4</th>\n",
       "      <td>Mick LaSalle</td>\n",
       "      <td>The Night Listener</td>\n",
       "      <td>3.0</td>\n",
       "      <td>2.773420</td>\n",
       "      <td>0.924473</td>\n",
       "    </tr>\n",
       "  </tbody>\n",
       "</table>\n",
       "</div>"
      ],
      "text/plain": [
       "          critic               title  rating  sim_rating  similarity\n",
       "0  Jack Matthews   Lady in the Water     3.0    1.988547    0.662849\n",
       "1  Jack Matthews  The Night Listener     3.0    1.988547    0.662849\n",
       "2   Mick LaSalle   Lady in the Water     3.0    2.773420    0.924473\n",
       "3   Mick LaSalle        Just My Luck     2.0    1.848947    0.924473\n",
       "4   Mick LaSalle  The Night Listener     3.0    2.773420    0.924473"
      ]
     },
     "execution_count": 192,
     "metadata": {},
     "output_type": "execute_result"
    }
   ],
   "source": [
    "rating_c = rating.loc[rating_toby[rating.title].isnull().values & (rating.critic != 'Toby')]\n",
    "rating_c.reset_index(drop=True, inplace=True)\n",
    "rating_c_similarity = rating_c['critic'].map(sim_toby)\n",
    "\n",
    "rating_c = rating_c.assign(similarity=rating_c_similarity, sim_rating=rating_c_similarity * rating_c.rating)\n",
    "rating_c.head()"
   ]
  },
  {
   "cell_type": "markdown",
   "metadata": {},
   "source": [
    "Lastly we add up the score for each title using groupby(). We also normalize the score by dividing it with the sum of the weights. Base on other critics' similarity and their rating, we have made a movie recommendation for Toby. The number matches the result of the book."
   ]
  },
  {
   "cell_type": "code",
   "execution_count": 193,
   "metadata": {
    "collapsed": false
   },
   "outputs": [
    {
     "data": {
      "text/plain": [
       "title\n",
       "The Night Listener    3.347790\n",
       "Lady in the Water     2.832550\n",
       "Just My Luck          2.530981\n",
       "dtype: float64"
      ]
     },
     "execution_count": 193,
     "metadata": {},
     "output_type": "execute_result"
    }
   ],
   "source": [
    "sums = rating_c.groupby('title')['similarity', 'sim_rating'].sum()\n",
    "recommendations = sums['sim_rating'] / sums['similarity']\n",
    "recommendations.sort_index(ascending=False)"
   ]
  },
  {
   "cell_type": "markdown",
   "metadata": {},
   "source": [
    "Putting it all together:"
   ]
  },
  {
   "cell_type": "code",
   "execution_count": 191,
   "metadata": {
    "collapsed": false
   },
   "outputs": [
    {
     "data": {
      "text/plain": [
       "title\n",
       "The Night Listener    3.347790\n",
       "Lady in the Water     2.832550\n",
       "Just My Luck          2.530981\n",
       "dtype: float64"
      ]
     },
     "execution_count": 191,
     "metadata": {},
     "output_type": "execute_result"
    }
   ],
   "source": [
    "rating = pd.read_csv('data/movie_rating.csv')\n",
    "rp = rating.pivot_table(columns=['critic'], index=['title'],values='rating')\n",
    "\n",
    "rating_toby = rp['Toby']\n",
    "sim_toby = rp.corrwith(rating_toby)\n",
    "\n",
    "rating_c = rating.loc[rating_toby[rating.title].isnull().values & (rating.critic != 'Toby')]\n",
    "rating_c_similarity = rating_c['critic'].map(sim_toby)\n",
    "rating_c = rating_c.assign(similarity=rating_c_similarity, sim_rating=rating_c_similarity * rating_c.rating)\n",
    "\n",
    "sums = rating_c.groupby('title')['similarity', 'sim_rating'].sum()\n",
    "recommendations = sums['sim_rating'] / sums['similarity']\n",
    "recommendations.sort_index(ascending=False)"
   ]
  },
  {
   "cell_type": "code",
   "execution_count": null,
   "metadata": {
    "collapsed": true
   },
   "outputs": [],
   "source": []
  }
 ],
 "metadata": {
  "kernelspec": {
   "display_name": "Python 3",
   "language": "python",
   "name": "python3"
  },
  "language_info": {
   "codemirror_mode": {
    "name": "ipython",
    "version": 3
   },
   "file_extension": ".py",
   "mimetype": "text/x-python",
   "name": "python",
   "nbconvert_exporter": "python",
   "pygments_lexer": "ipython3",
   "version": "3.5.2"
  }
 },
 "nbformat": 4,
 "nbformat_minor": 0
}
